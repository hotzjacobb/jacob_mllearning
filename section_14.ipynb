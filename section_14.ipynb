{
 "cells": [
  {
   "cell_type": "code",
   "execution_count": 17,
   "metadata": {},
   "outputs": [
    {
     "name": "stdout",
     "output_type": "stream",
     "text": [
      "      Order        PID  MS SubClass MS Zoning  Lot Area Street Lot Shape  \\\n",
      "0         1  526301100           20        RL     31770   Pave       IR1   \n",
      "1         2  526350040           20        RH     11622   Pave       Reg   \n",
      "2         3  526351010           20        RL     14267   Pave       IR1   \n",
      "3         4  526353030           20        RL     11160   Pave       Reg   \n",
      "4         5  527105010           60        RL     13830   Pave       IR1   \n",
      "...     ...        ...          ...       ...       ...    ...       ...   \n",
      "1456   1457  907253110           60        RL     10400   Pave       Reg   \n",
      "1457   1458  907254020           60        RL      9066   Pave       IR1   \n",
      "1458   1459  907254090           60        RL     11404   Pave       IR1   \n",
      "1459   1460  907255020           60        RL      9240   Pave       Reg   \n",
      "1460   1461  907255030           60        RL      9720   Pave       IR1   \n",
      "\n",
      "     Land Contour Utilities Lot Config  ... Enclosed Porch 3Ssn Porch  \\\n",
      "0             Lvl    AllPub     Corner  ...              0          0   \n",
      "1             Lvl    AllPub     Inside  ...              0          0   \n",
      "2             Lvl    AllPub     Corner  ...              0          0   \n",
      "3             Lvl    AllPub     Corner  ...              0          0   \n",
      "4             Lvl    AllPub     Inside  ...              0          0   \n",
      "...           ...       ...        ...  ...            ...        ...   \n",
      "1456          Lvl    AllPub     Inside  ...              0          0   \n",
      "1457          Lvl    AllPub     Inside  ...              0          0   \n",
      "1458          Lvl    AllPub     Inside  ...              0          0   \n",
      "1459          Lvl    AllPub     Inside  ...              0          0   \n",
      "1460          Lvl    AllPub    CulDSac  ...              0          0   \n",
      "\n",
      "     Screen Porch Pool Area Misc Val Mo Sold  Yr Sold  Sale Type  \\\n",
      "0               0         0        0       5     2010        WD    \n",
      "1             120         0        0       6     2010        WD    \n",
      "2               0         0    12500       6     2010        WD    \n",
      "3               0         0        0       4     2010        WD    \n",
      "4               0         0        0       3     2010        WD    \n",
      "...           ...       ...      ...     ...      ...        ...   \n",
      "1456            0         0        0       6     2008        WD    \n",
      "1457            0         0        0      12     2008        WD    \n",
      "1458            0         0        0       7     2008        WD    \n",
      "1459          189         0        0       9     2008        WD    \n",
      "1460            0         0        0       1     2008        WD    \n",
      "\n",
      "      Sale Condition  SalePrice  \n",
      "0             Normal     215000  \n",
      "1             Normal     105000  \n",
      "2             Normal     172000  \n",
      "3             Normal     244000  \n",
      "4             Normal     189900  \n",
      "...              ...        ...  \n",
      "1456          Normal     230500  \n",
      "1457          Normal     230000  \n",
      "1458          Normal     222500  \n",
      "1459          Normal     287000  \n",
      "1460          Normal     274000  \n",
      "\n",
      "[1461 rows x 58 columns]\n"
     ]
    },
    {
     "name": "stderr",
     "output_type": "stream",
     "text": [
      "/Users/jeffhotz/opt/anaconda3/lib/python3.7/site-packages/ipykernel_launcher.py:10: SettingWithCopyWarning: \n",
      "A value is trying to be set on a copy of a slice from a DataFrame.\n",
      "Try using .loc[row_indexer,col_indexer] = value instead\n",
      "\n",
      "See the caveats in the documentation: https://pandas.pydata.org/pandas-docs/stable/user_guide/indexing.html#returning-a-view-versus-a-copy\n",
      "  # Remove the CWD from sys.path while we load stuff.\n"
     ]
    },
    {
     "data": {
      "text/plain": [
       "0    1458\n",
       "2       2\n",
       "1       1\n",
       "dtype: int64"
      ]
     },
     "execution_count": 17,
     "metadata": {},
     "output_type": "execute_result"
    }
   ],
   "source": [
    "import pandas as pd\n",
    "\n",
    "data = pd.read_csv('AmesHousing.txt', delimiter='\\t')\n",
    "train = data.loc[0:1460, :]\n",
    "test = data.loc[1460:, :]\n",
    "df_no_mv = train.dropna(axis=1)\n",
    "print(df_no_mv)\n",
    "string_cols = df_no_mv.select_dtypes(include=['object']).columns\n",
    "for col in string_cols:\n",
    "    train[col] = train[col].astype('category')\n",
    "train['Utilities'].cat.codes.value_counts()\n"
   ]
  },
  {
   "cell_type": "code",
   "execution_count": null,
   "metadata": {},
   "outputs": [],
   "source": []
  }
 ],
 "metadata": {
  "kernelspec": {
   "display_name": "Python 3",
   "language": "python",
   "name": "python3"
  },
  "language_info": {
   "codemirror_mode": {
    "name": "ipython",
    "version": 3
   },
   "file_extension": ".py",
   "mimetype": "text/x-python",
   "name": "python",
   "nbconvert_exporter": "python",
   "pygments_lexer": "ipython3",
   "version": "3.7.6"
  }
 },
 "nbformat": 4,
 "nbformat_minor": 4
}
